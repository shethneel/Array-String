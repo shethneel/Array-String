{
  "nbformat": 4,
  "nbformat_minor": 0,
  "metadata": {
    "colab": {
      "provenance": []
    },
    "kernelspec": {
      "name": "python3",
      "display_name": "Python 3"
    },
    "language_info": {
      "name": "python"
    }
  },
  "cells": [
    {
      "cell_type": "markdown",
      "source": [
        "You are given an integer array nums and an integer val, remove all occurrences of val in nums in-place.\n",
        "\n",
        "Example :\n",
        "\n",
        "Input :            \n",
        "\n",
        "nums = [0,1,2,2,3,0,4,2]<br>\n",
        "val = 2\n",
        "\n",
        "Output :\n",
        "\n",
        "[0,1,3,0,4]"
      ],
      "metadata": {
        "id": "Z2MSPINMLvfo"
      }
    },
    {
      "cell_type": "code",
      "execution_count": 1,
      "metadata": {
        "id": "NeY_1WgzLlDv"
      },
      "outputs": [],
      "source": [
        "nums = [0,1,2,2,3,0,4,2]\n",
        "val = 2"
      ]
    },
    {
      "cell_type": "code",
      "source": [
        "nums[:] = filter(lambda X : X!=val, nums)\n",
        "\n",
        "nums"
      ],
      "metadata": {
        "id": "rxWQEYwBNImi",
        "colab": {
          "base_uri": "https://localhost:8080/"
        },
        "outputId": "83d61eca-fc52-4a3d-b48b-40f1297a4aa4"
      },
      "execution_count": 2,
      "outputs": [
        {
          "output_type": "execute_result",
          "data": {
            "text/plain": [
              "[0, 1, 3, 0, 4]"
            ]
          },
          "metadata": {},
          "execution_count": 2
        }
      ]
    },
    {
      "cell_type": "markdown",
      "source": [
        "Intuition\n",
        "Wanted to find best one line solution\n",
        "\n",
        "Approach\n",
        "Solution will check lambda function first <br>\n",
        "Filter function will filterout all true value received from lambda function<br>\n",
        "nums[:] will update the original nums immediately\n",
        "\n",
        "Complexity\n",
        "\n",
        "Time complexity: O(n)\n",
        "\n",
        "Space complexity: O(1)"
      ],
      "metadata": {
        "id": "rcaQpHEMM0Mx"
      }
    }
  ]
}