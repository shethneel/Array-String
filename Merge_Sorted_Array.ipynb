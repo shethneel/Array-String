{
  "nbformat": 4,
  "nbformat_minor": 0,
  "metadata": {
    "colab": {
      "provenance": []
    },
    "kernelspec": {
      "name": "python3",
      "display_name": "Python 3"
    },
    "language_info": {
      "name": "python"
    }
  },
  "cells": [
    {
      "cell_type": "markdown",
      "source": [
        "You are given two integer arrays nums1 and nums2, sorted in non-decreasing order, and two integers m and n, representing the number of elements in nums1 and nums2 respectively.\n",
        "\n",
        "Merge nums1 and nums2 into a single array sorted in non-decreasing order.\n",
        "\n",
        "The final sorted array should not be returned by the function, but instead be stored inside the array nums1. To accommodate this, nums1 has a length of m + n, where the first m elements denote the elements that should be merged, and the last n elements are set to 0 and should be ignored. nums2 has a length of n.\n",
        "\n",
        "\n",
        "\n",
        "<b>Example 1:</b>\n",
        "\n",
        "Input:\n",
        "\n",
        "nums1 = [1,2,3,0,0,0], <br>\n",
        "m = 3, <br>\n",
        "nums2 = [2,5,6], <br>\n",
        "n = 3\n",
        "\n",
        "Output: [1,2,2,3,5,6]\n",
        "\n",
        "Explanation:\n",
        "\n",
        "The arrays we are merging are [1,2,3] and [2,5,6].\n",
        "The result of the merge is [1,2,2,3,5,6] with the underlined elements coming from nums1.\n",
        "\n",
        "<b>Example 2:</b>\n",
        "\n",
        "Input:\n",
        "\n",
        "nums1 = [1], <br>m = 1,<br> nums2 = [],<br> n = 0\n",
        "\n",
        "Output: [1]\n",
        "\n",
        "Explanation:\n",
        "\n",
        "The arrays we are merging are [1] and [].\n",
        "The result of the merge is [1].\n",
        "\n",
        "<b>Example 3:</b>\n",
        "\n",
        "Input:\n",
        "\n",
        "nums1 = [0],<br> m = 0,<br> nums2 = [1],<br> n = 1\n",
        "\n",
        "Output: [1]\n",
        "\n",
        "Explanation:\n",
        "\n",
        "The arrays we are merging are [] and [1].\n",
        "The result of the merge is [1].\n",
        "Note that because m = 0, there are no elements in nums1. The 0 is only there to ensure the merge result can fit in nums1."
      ],
      "metadata": {
        "id": "Z2MSPINMLvfo"
      }
    },
    {
      "cell_type": "code",
      "execution_count": 1,
      "metadata": {
        "id": "NeY_1WgzLlDv"
      },
      "outputs": [],
      "source": [
        "nums1 = [1,2,3,0,0,0]\n",
        "m = 3\n",
        "nums2 = [2,5,6]\n",
        "n = 3"
      ]
    },
    {
      "cell_type": "code",
      "source": [
        "class Solution(object):\n",
        "    def merge(self, n1, m, n2, n):\n",
        "\n",
        "        for j in range(n):\n",
        "            n1[m + j] = n2[j]\n",
        "\n",
        "            if len(n1) == m+n-1 and j>=0:\n",
        "                n1.append(n2[j])\n",
        "        n1.sort()"
      ],
      "metadata": {
        "id": "rxWQEYwBNImi"
      },
      "execution_count": 2,
      "outputs": []
    },
    {
      "cell_type": "markdown",
      "source": [
        "Intuition\n",
        "\n",
        "There are multiple approaches to solve this problem such as bruteforce with multiple loops and adding 2 special cases\n",
        "\n",
        "In my solution (Which is an updated solution of another person), I am using basic one loop and one special case to avoid index out of range error\n",
        "\n",
        "Approach\n",
        "\n",
        "Here, we are updating/adding values after the required elements of n1 provided by m\n",
        "\n",
        "Why special case?\n",
        "\n",
        "Let's say if there are 5 elements in n1 and 3 in n2, but we are supposed to add 6 elelemtns in n1, i.e. 4 of n1 and 2 of n2, then this basic method fails without special case\n",
        "\n",
        "Ex :\n",
        "\n",
        "n1 = [1,2,3,6,9] <br>\n",
        "m = 4 <br>\n",
        "n2 = [4,7,8] <br>\n",
        "n = 2\n",
        "\n",
        "In this case, we only have 5 elements but as per requirement, we are supposed to add 6 elements (4 of m and 2 of n)\n",
        "\n",
        "Complexity\n",
        "\n",
        "Time complexity:\n",
        "\n",
        "The time complexity of the merge function is O(n*log n), where n represents the total number of elements being merged.\n",
        "\n",
        "Space complexity:\n",
        "\n",
        "The space complexity is O(n) due to the storage of the input arrays, and O(1) for auxiliary space."
      ],
      "metadata": {
        "id": "rcaQpHEMM0Mx"
      }
    }
  ]
}